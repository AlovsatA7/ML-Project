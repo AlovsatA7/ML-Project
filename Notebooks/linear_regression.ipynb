{
 "cells": [
  {
   "cell_type": "code",
   "execution_count": 27,
   "id": "bdbfcafe",
   "metadata": {},
   "outputs": [],
   "source": [
    "import pandas as pd\n",
    "import numpy as np\n",
    "import matplotlib.pyplot as plt\n",
    "from joblib import dump\n",
    "from sklearn.ensemble import RandomForestRegressor\n",
    "from sklearn.model_selection import TimeSeriesSplit, cross_val_score\n",
    "from sklearn.feature_selection import RFECV\n",
    "from sklearn.metrics import mean_squared_error, mean_absolute_error, r2_score\n",
    "from sklearn.linear_model import LinearRegression\n"
   ]
  },
  {
   "cell_type": "code",
   "execution_count": 28,
   "id": "b330ed0d",
   "metadata": {},
   "outputs": [],
   "source": [
    "# Load the processed data\n",
    "train_datarf = pd.read_csv('../Data/output/train_data.csv')\n",
    "test_datarf = pd.read_csv('../Data/output/test_data.csv')\n",
    "validation_datarf = pd.read_csv('../Data/output/validation_data.csv')\n",
    "\n",
    "train_datarf['Date'] = pd.to_datetime(train_datarf['Date'])\n",
    "test_datarf['Date'] = pd.to_datetime(test_datarf['Date'])\n",
    "validation_datarf['Date'] = pd.to_datetime(validation_datarf['Date'])\n",
    "\n",
    "\n",
    "# Assuming that the first column is the index if saved with index=True\n",
    "train_datarf.set_index(train_datarf.columns[0], inplace=True)\n",
    "test_datarf.set_index(test_datarf.columns[0], inplace=True)\n",
    "validation_datarf.set_index(validation_datarf.columns[0], inplace=True)\n"
   ]
  },
  {
   "cell_type": "code",
   "execution_count": 29,
   "id": "c9d9a119",
   "metadata": {},
   "outputs": [],
   "source": [
    "# Separating target variable and features\n",
    "y_train = train_datarf['log_return']\n",
    "X_train = train_datarf.drop(['log_return'], axis=1)\n",
    "\n",
    "y_test = test_datarf['log_return']\n",
    "X_test = test_datarf.drop(['log_return'], axis=1)\n",
    "\n",
    "y_validation = validation_datarf['log_return']\n",
    "X_validation = validation_datarf.drop(['log_return'], axis=1)"
   ]
  },
  {
   "cell_type": "code",
   "execution_count": 33,
   "id": "1c4cc007",
   "metadata": {},
   "outputs": [],
   "source": [
    "# Initialize the Linear Regression model\n",
    "linear_model = LinearRegression()\n",
    "\n",
    "# Fit the model on the training data\n",
    "linear_model.fit(X_train, y_train)\n",
    "\n",
    "# Predict on the training data\n",
    "y_train_pred_linear = linear_model.predict(X_train)\n",
    "\n",
    "# Predict on the testing data\n",
    "y_test_pred_linear = linear_model.predict(X_test)\n",
    "\n",
    "# Predict on the validation data ()\n",
    "y_validation_pred_linear = linear_model.predict(X_validation)\n",
    "\n"
   ]
  },
  {
   "cell_type": "code",
   "execution_count": 34,
   "id": "55c8019d",
   "metadata": {},
   "outputs": [],
   "source": [
    "# Evaluate the model\n",
    "\n",
    "#training\n",
    "linear_mse_training = mean_squared_error(y_train, y_train_pred_linear)\n",
    "linear_mae_training = mean_absolute_error(y_train, y_train_pred_linear)\n",
    "linear_r2_training = r2_score(y_train, y_train_pred_linear)\n",
    "\n",
    "#test\n",
    "linear_mse_testing = mean_squared_error(y_test, y_test_pred_linear)\n",
    "linear_mae_testing = mean_absolute_error(y_test, y_test_pred_linear)\n",
    "linear_r2_testing = r2_score(y_test, y_test_pred_linear)\n",
    "\n",
    "#validation\n",
    "linear_mse_validation = mean_squared_error(y_validation, y_validation_pred_linear)\n",
    "linear_mae_validation = mean_absolute_error(y_validation, y_validation_pred_linear)\n",
    "linear_r2_validation = r2_score(y_validation, y_validation_pred_linear)\n"
   ]
  },
  {
   "cell_type": "code",
   "execution_count": 35,
   "id": "bbd1e4f8",
   "metadata": {
    "scrolled": true
   },
   "outputs": [
    {
     "name": "stdout",
     "output_type": "stream",
     "text": [
      "Training data\n",
      "MSE: 0.20763218708237594\n",
      "MAE: 0.303131275761984\n",
      "R2: 0.792367812917624\n",
      "\n",
      "Testing data\n",
      "MSE: 0.04919878647140979\n",
      "MAE: 0.18179584994408504\n",
      "R2: 0.9055725927799326\n",
      "\n",
      "Validation data\n",
      "MSE: 0.08355081658243925\n",
      "MAE: 0.17618881126245053\n",
      "R2: 0.897351904174426\n"
     ]
    }
   ],
   "source": [
    "# Display the results\n",
    "\n",
    "print(\"Training data\")\n",
    "print(\"MSE:\", linear_mse_training)\n",
    "print(\"MAE:\", linear_mae_training)\n",
    "print(\"R2:\", linear_r2_training)\n",
    "print()\n",
    "\n",
    "\n",
    "print(\"Testing data\")\n",
    "print(\"MSE:\", linear_mse_testing)\n",
    "print(\"MAE:\", linear_mae_testing)\n",
    "print(\"R2:\", linear_r2_testing)\n",
    "print()\n",
    "\n",
    "print(\"Validation data\")\n",
    "print(\"MSE:\", linear_mse_validation)\n",
    "print(\"MAE:\", linear_mae_validation)\n",
    "print(\"R2:\", linear_r2_validation)\n"
   ]
  },
  {
   "cell_type": "code",
   "execution_count": 36,
   "id": "57310f39",
   "metadata": {},
   "outputs": [
    {
     "data": {
      "text/plain": [
       "['../Data/models_output/linear_model.joblib']"
      ]
     },
     "execution_count": 36,
     "metadata": {},
     "output_type": "execute_result"
    }
   ],
   "source": [
    "#Saving the model\n",
    "\n",
    "\n",
    "dump(linear_model, '../Data/models_output/linear_model.joblib')\n"
   ]
  },
  {
   "cell_type": "code",
   "execution_count": null,
   "id": "fd4f0d7a",
   "metadata": {},
   "outputs": [],
   "source": []
  },
  {
   "cell_type": "code",
   "execution_count": null,
   "id": "34f7a539",
   "metadata": {},
   "outputs": [],
   "source": []
  }
 ],
 "metadata": {
  "kernelspec": {
   "display_name": "Python 3 (ipykernel)",
   "language": "python",
   "name": "python3"
  },
  "language_info": {
   "codemirror_mode": {
    "name": "ipython",
    "version": 3
   },
   "file_extension": ".py",
   "mimetype": "text/x-python",
   "name": "python",
   "nbconvert_exporter": "python",
   "pygments_lexer": "ipython3",
   "version": "3.10.9"
  }
 },
 "nbformat": 4,
 "nbformat_minor": 5
}
