{
 "cells": [
  {
   "cell_type": "code",
   "execution_count": 23,
   "id": "91e73788",
   "metadata": {},
   "outputs": [],
   "source": [
    "import pandas as pd\n",
    "import numpy as np\n",
    "import matplotlib.pyplot as plt\n",
    "from joblib import dump\n",
    "from sklearn.model_selection import train_test_split, GridSearchCV, TimeSeriesSplit, cross_val_score\n",
    "from sklearn.tree import DecisionTreeRegressor\n",
    "from sklearn.metrics import mean_squared_error, mean_absolute_error, r2_score \n",
    "from sklearn.feature_selection import RFECV\n",
    "\n"
   ]
  },
  {
   "cell_type": "code",
   "execution_count": 24,
   "id": "8d70f2dd",
   "metadata": {},
   "outputs": [],
   "source": [
    "# Load the processed data\n",
    "train_datadt = pd.read_csv('../Data/output/train_data.csv')\n",
    "test_datadt = pd.read_csv('../Data/output/test_data.csv')\n",
    "validation_datadt = pd.read_csv('../Data/output/validation_data.csv')\n",
    "\n",
    "\n",
    "# Assuming that the first column is the index if saved with index=True\n",
    "train_datadt.set_index(train_datadt.columns[0], inplace=True)\n",
    "test_datadt.set_index(test_datadt.columns[0], inplace=True)\n",
    "validation_datadt.set_index(validation_datadt.columns[0], inplace=True)\n"
   ]
  },
  {
   "cell_type": "code",
   "execution_count": 25,
   "id": "a1a16d86",
   "metadata": {},
   "outputs": [],
   "source": [
    "# Separating target variable and features\n",
    "y_train = train_datadt['log_return']\n",
    "X_train = train_datadt.drop(['log_return'], axis=1)\n",
    "\n",
    "y_test = test_datadt['log_return']\n",
    "X_test = test_datadt.drop(['log_return'], axis=1)\n",
    "\n",
    "y_validation = validation_datadt['log_return']\n",
    "X_validation = validation_datadt.drop(['log_return'], axis=1)\n",
    "\n"
   ]
  },
  {
   "cell_type": "code",
   "execution_count": 26,
   "id": "e6e003c0",
   "metadata": {},
   "outputs": [],
   "source": [
    "# Initialize the Decision Tree Regressor with a random state for reproducibility\n",
    "decision_tree_model = DecisionTreeRegressor(random_state=42)\n",
    "\n",
    "# Fit the model to the training data\n",
    "decision_tree_model.fit(X_train, y_train)\n",
    "\n",
    "# Predict on the training data\n",
    "y_train_pred = decision_tree_model.predict(X_train)\n",
    "\n",
    "# Predict on the testing data\n",
    "y_test_pred = decision_tree_model.predict(X_test)\n",
    "\n",
    "# Predict on the validating data\n",
    "y_validation_pred = decision_tree_model.predict(X_validation)\n"
   ]
  },
  {
   "cell_type": "code",
   "execution_count": 27,
   "id": "77494629",
   "metadata": {},
   "outputs": [],
   "source": [
    "# Calculate performance metrics on the training data\n",
    "train_mse = mean_squared_error(y_train, y_train_pred)\n",
    "train_mae = mean_absolute_error(y_train, y_train_pred)\n",
    "train_r2 = r2_score(y_train, y_train_pred)\n",
    "\n"
   ]
  },
  {
   "cell_type": "code",
   "execution_count": 28,
   "id": "e1cbb64e",
   "metadata": {},
   "outputs": [],
   "source": [
    "# Calculate performance metrics on the testing data\n",
    "test_mse = mean_squared_error(y_test, y_test_pred)\n",
    "test_mae = mean_absolute_error(y_test, y_test_pred)\n",
    "test_r2 = r2_score(y_test, y_test_pred)\n",
    "\n"
   ]
  },
  {
   "cell_type": "code",
   "execution_count": 29,
   "id": "1b419eb8",
   "metadata": {},
   "outputs": [],
   "source": [
    "# Calculate performance metrics on the validation data\n",
    "\n",
    "validation_mse = mean_squared_error(y_validation, y_validation_pred)\n",
    "validation_mae = mean_absolute_error(y_validation, y_validation_pred)\n",
    "validation_r2 = r2_score(y_validation, y_validation_pred)\n"
   ]
  },
  {
   "cell_type": "code",
   "execution_count": 55,
   "id": "939662bd",
   "metadata": {},
   "outputs": [
    {
     "name": "stdout",
     "output_type": "stream",
     "text": [
      "Training data\n",
      "MSE: 0.0\n",
      "MAE: 0.0\n",
      "R2: 1.0\n",
      "\n",
      "Testing data\n",
      "MSE: 79695.75400181103\n",
      "MAE: 198.29891842763152\n",
      "R2: 0.9528744997997641\n",
      "\n",
      "Validation data\n",
      "MSE: 66850.84287926838\n",
      "MAE: 175.64782020560753\n",
      "R2: 0.956356329363249\n"
     ]
    }
   ],
   "source": [
    "# Display the results\n",
    "\n",
    "print(\"Training data\")\n",
    "print(\"MSE:\", train_mse)\n",
    "print(\"MAE:\", train_mae)\n",
    "print(\"R2:\", train_r2)\n",
    "print()\n",
    "\n",
    "\n",
    "print(\"Testing data\")\n",
    "print(\"MSE:\", test_mse)\n",
    "print(\"MAE:\", test_mae)\n",
    "print(\"R2:\", test_r2)\n",
    "print()\n",
    "\n",
    "print(\"Validation data\")\n",
    "print(\"MSE:\", validation_mse)\n",
    "print(\"MAE:\", validation_mae)\n",
    "print(\"R2:\", validation_r2)"
   ]
  },
  {
   "cell_type": "code",
   "execution_count": 30,
   "id": "f1900c55",
   "metadata": {},
   "outputs": [],
   "source": [
    "# Initialize the Decision Tree Regressor\n",
    "decision_tree = DecisionTreeRegressor(random_state=42)\n",
    "\n",
    "# Create a time series cross-validator\n",
    "tscv = TimeSeriesSplit(n_splits=5)\n",
    "\n",
    "# Initialize RFECV\n",
    "selector = RFECV(estimator=decision_tree, step=1, cv=tscv, scoring='neg_mean_squared_error')\n",
    "\n",
    "# Fit RFECV\n",
    "selector = selector.fit(X_train, y_train)\n"
   ]
  },
  {
   "cell_type": "code",
   "execution_count": 31,
   "id": "3d9477c9",
   "metadata": {},
   "outputs": [
    {
     "data": {
      "text/html": [
       "<style>#sk-container-id-3 {color: black;background-color: white;}#sk-container-id-3 pre{padding: 0;}#sk-container-id-3 div.sk-toggleable {background-color: white;}#sk-container-id-3 label.sk-toggleable__label {cursor: pointer;display: block;width: 100%;margin-bottom: 0;padding: 0.3em;box-sizing: border-box;text-align: center;}#sk-container-id-3 label.sk-toggleable__label-arrow:before {content: \"▸\";float: left;margin-right: 0.25em;color: #696969;}#sk-container-id-3 label.sk-toggleable__label-arrow:hover:before {color: black;}#sk-container-id-3 div.sk-estimator:hover label.sk-toggleable__label-arrow:before {color: black;}#sk-container-id-3 div.sk-toggleable__content {max-height: 0;max-width: 0;overflow: hidden;text-align: left;background-color: #f0f8ff;}#sk-container-id-3 div.sk-toggleable__content pre {margin: 0.2em;color: black;border-radius: 0.25em;background-color: #f0f8ff;}#sk-container-id-3 input.sk-toggleable__control:checked~div.sk-toggleable__content {max-height: 200px;max-width: 100%;overflow: auto;}#sk-container-id-3 input.sk-toggleable__control:checked~label.sk-toggleable__label-arrow:before {content: \"▾\";}#sk-container-id-3 div.sk-estimator input.sk-toggleable__control:checked~label.sk-toggleable__label {background-color: #d4ebff;}#sk-container-id-3 div.sk-label input.sk-toggleable__control:checked~label.sk-toggleable__label {background-color: #d4ebff;}#sk-container-id-3 input.sk-hidden--visually {border: 0;clip: rect(1px 1px 1px 1px);clip: rect(1px, 1px, 1px, 1px);height: 1px;margin: -1px;overflow: hidden;padding: 0;position: absolute;width: 1px;}#sk-container-id-3 div.sk-estimator {font-family: monospace;background-color: #f0f8ff;border: 1px dotted black;border-radius: 0.25em;box-sizing: border-box;margin-bottom: 0.5em;}#sk-container-id-3 div.sk-estimator:hover {background-color: #d4ebff;}#sk-container-id-3 div.sk-parallel-item::after {content: \"\";width: 100%;border-bottom: 1px solid gray;flex-grow: 1;}#sk-container-id-3 div.sk-label:hover label.sk-toggleable__label {background-color: #d4ebff;}#sk-container-id-3 div.sk-serial::before {content: \"\";position: absolute;border-left: 1px solid gray;box-sizing: border-box;top: 0;bottom: 0;left: 50%;z-index: 0;}#sk-container-id-3 div.sk-serial {display: flex;flex-direction: column;align-items: center;background-color: white;padding-right: 0.2em;padding-left: 0.2em;position: relative;}#sk-container-id-3 div.sk-item {position: relative;z-index: 1;}#sk-container-id-3 div.sk-parallel {display: flex;align-items: stretch;justify-content: center;background-color: white;position: relative;}#sk-container-id-3 div.sk-item::before, #sk-container-id-3 div.sk-parallel-item::before {content: \"\";position: absolute;border-left: 1px solid gray;box-sizing: border-box;top: 0;bottom: 0;left: 50%;z-index: -1;}#sk-container-id-3 div.sk-parallel-item {display: flex;flex-direction: column;z-index: 1;position: relative;background-color: white;}#sk-container-id-3 div.sk-parallel-item:first-child::after {align-self: flex-end;width: 50%;}#sk-container-id-3 div.sk-parallel-item:last-child::after {align-self: flex-start;width: 50%;}#sk-container-id-3 div.sk-parallel-item:only-child::after {width: 0;}#sk-container-id-3 div.sk-dashed-wrapped {border: 1px dashed gray;margin: 0 0.4em 0.5em 0.4em;box-sizing: border-box;padding-bottom: 0.4em;background-color: white;}#sk-container-id-3 div.sk-label label {font-family: monospace;font-weight: bold;display: inline-block;line-height: 1.2em;}#sk-container-id-3 div.sk-label-container {text-align: center;}#sk-container-id-3 div.sk-container {/* jupyter's `normalize.less` sets `[hidden] { display: none; }` but bootstrap.min.css set `[hidden] { display: none !important; }` so we also need the `!important` here to be able to override the default hidden behavior on the sphinx rendered scikit-learn.org. See: https://github.com/scikit-learn/scikit-learn/issues/21755 */display: inline-block !important;position: relative;}#sk-container-id-3 div.sk-text-repr-fallback {display: none;}</style><div id=\"sk-container-id-3\" class=\"sk-top-container\"><div class=\"sk-text-repr-fallback\"><pre>DecisionTreeRegressor(random_state=42)</pre><b>In a Jupyter environment, please rerun this cell to show the HTML representation or trust the notebook. <br />On GitHub, the HTML representation is unable to render, please try loading this page with nbviewer.org.</b></div><div class=\"sk-container\" hidden><div class=\"sk-item\"><div class=\"sk-estimator sk-toggleable\"><input class=\"sk-toggleable__control sk-hidden--visually\" id=\"sk-estimator-id-3\" type=\"checkbox\" checked><label for=\"sk-estimator-id-3\" class=\"sk-toggleable__label sk-toggleable__label-arrow\">DecisionTreeRegressor</label><div class=\"sk-toggleable__content\"><pre>DecisionTreeRegressor(random_state=42)</pre></div></div></div></div></div>"
      ],
      "text/plain": [
       "DecisionTreeRegressor(random_state=42)"
      ]
     },
     "execution_count": 31,
     "metadata": {},
     "output_type": "execute_result"
    }
   ],
   "source": [
    "# Transform the datasets to include only the selected features\n",
    "X_train_selected = selector.transform(X_train)\n",
    "X_test_selected = selector.transform(X_test)\n",
    "X_validation_selected = selector.transform(X_validation)\n",
    "\n",
    "# Fit the decision tree model on the transformed training data\n",
    "decision_tree.fit(X_train_selected, y_train)\n"
   ]
  },
  {
   "cell_type": "code",
   "execution_count": 32,
   "id": "b56c1ba8",
   "metadata": {},
   "outputs": [],
   "source": [
    "# Predict and evaluate the model on the transformed training set\n",
    "y_train_pred = decision_tree.predict(X_train_selected)\n",
    "train_mse = mean_squared_error(y_train, y_train_pred)\n",
    "train_mae = mean_absolute_error(y_train, y_train_pred)\n",
    "train_r2 = r2_score(y_train, y_train_pred)\n",
    "\n",
    "# Predict and evaluate the model on the transformed test set\n",
    "y_test_pred = decision_tree.predict(X_test_selected)\n",
    "test_mse = mean_squared_error(y_test, y_test_pred)\n",
    "test_mae = mean_absolute_error(y_test, y_test_pred)\n",
    "test_r2 = r2_score(y_test, y_test_pred)\n",
    "\n",
    "# Predict and evaluate the model on the transformed validation set\n",
    "y_validation_pred = decision_tree.predict(X_validation_selected)\n",
    "validation_mse = mean_squared_error(y_validation, y_validation_pred)\n",
    "validation_mae = mean_absolute_error(y_validation, y_validation_pred)\n",
    "validation_r2 = r2_score(y_validation, y_validation_pred)\n",
    "\n",
    "# Selected features\n",
    "selected_features = X_train.columns[selector.support_]\n",
    "\n",
    "\n",
    "validation_mae = mean_absolute_error(y_validation, y_validation_pred)\n"
   ]
  },
  {
   "cell_type": "code",
   "execution_count": 33,
   "id": "9f828278",
   "metadata": {},
   "outputs": [
    {
     "name": "stdout",
     "output_type": "stream",
     "text": [
      "Training data\n",
      "MSE: 0.0\n",
      "MAE: 0.0\n",
      "R2: 1.0\n",
      "\n",
      "Testing data\n",
      "MSE: 0.04281471042289411\n",
      "MAE: 0.08315077024773282\n",
      "R2: 0.9178255728225885\n",
      "\n",
      "Validation data\n",
      "MSE: 0.09461097373038663\n",
      "MAE: 0.10242411972480603\n",
      "R2: 0.8837637177603745\n",
      "\n",
      "Selected features: Index(['Closing Price (USD)', '24h Open (USD)', '24h High (USD)',\n",
      "       '24h Low (USD)', 'Closing_Price_Diff', 'EMA_7', 'EMA_20', 'EMA_100',\n",
      "       'WMA_7', 'WMA_20', 'WMA_50', '7_day_volatility', '30_day_volatility',\n",
      "       'BB_upper', 'BB_lower', 'MACD', 'MACD_signal', 'ATR', 'Stoch_k',\n",
      "       'Stoch_d', 'Ichimoku_Span_A', '14_day_rolling_mean', 'ROC', 'lag_1',\n",
      "       'lag_2', 'lag_3', 'day_sin', 'day_cos'],\n",
      "      dtype='object')\n"
     ]
    }
   ],
   "source": [
    "# Output results\n",
    "# Display the results\n",
    "\n",
    "print(\"Training data\")\n",
    "print(\"MSE:\", train_mse)\n",
    "print(\"MAE:\", train_mae)\n",
    "print(\"R2:\", train_r2)\n",
    "print()\n",
    "\n",
    "\n",
    "print(\"Testing data\")\n",
    "print(\"MSE:\", test_mse)\n",
    "print(\"MAE:\", test_mae)\n",
    "print(\"R2:\", test_r2)\n",
    "print()\n",
    "\n",
    "print(\"Validation data\")\n",
    "print(\"MSE:\", validation_mse)\n",
    "print(\"MAE:\", validation_mae)\n",
    "print(\"R2:\", validation_r2)\n",
    "print()\n",
    "\n",
    "print(\"Selected features:\", selected_features)"
   ]
  },
  {
   "cell_type": "code",
   "execution_count": 34,
   "id": "3cdee326",
   "metadata": {},
   "outputs": [
    {
     "name": "stdout",
     "output_type": "stream",
     "text": [
      "Cross-validation scores (negative MSE): [-1.29689441 -2.25904222 -0.39634939 -0.06551857 -0.08942133]\n",
      "Mean CV score (MSE): 0.8214451833094076\n"
     ]
    }
   ],
   "source": [
    "# 1. Cross-validation for Model Performance Evaluation\n",
    "cv_scores = cross_val_score(decision_tree, X_train_selected, y_train, cv=tscv, scoring='neg_mean_squared_error')\n",
    "mean_cv_score = -np.mean(cv_scores)  # Negating the scores because they are negative mean squared errors\n",
    "\n",
    "# Display the results\n",
    "print(\"Cross-validation scores (negative MSE):\", cv_scores)\n",
    "print(\"Mean CV score (MSE):\", mean_cv_score)\n"
   ]
  },
  {
   "cell_type": "code",
   "execution_count": 35,
   "id": "b4e694e1",
   "metadata": {},
   "outputs": [],
   "source": [
    "# 2. Hyperparameter Tuning using Grid Search\n",
    "# Setting a range of parameters for tuning\n",
    "param_grid = {\n",
    "    'max_depth': [3, 5, 10, None],\n",
    "    'min_samples_split': [2, 5, 10],\n",
    "    'min_samples_leaf': [1, 2, 4]\n",
    "}\n",
    "\n",
    "# Initialize Grid Search with the Decision Tree model\n",
    "grid_search = GridSearchCV(decision_tree, param_grid, cv=tscv, scoring='neg_mean_squared_error', n_jobs=-1)\n",
    "\n",
    "# Fit Grid Search to the data\n",
    "grid_search.fit(X_train_selected, y_train)\n",
    "\n",
    "# Best parameters and score from Grid Search\n",
    "best_params = grid_search.best_params_\n",
    "best_score = -grid_search.best_score_  # Negating the score"
   ]
  },
  {
   "cell_type": "code",
   "execution_count": 36,
   "id": "b03ff532",
   "metadata": {},
   "outputs": [
    {
     "data": {
      "text/html": [
       "<style>#sk-container-id-4 {color: black;background-color: white;}#sk-container-id-4 pre{padding: 0;}#sk-container-id-4 div.sk-toggleable {background-color: white;}#sk-container-id-4 label.sk-toggleable__label {cursor: pointer;display: block;width: 100%;margin-bottom: 0;padding: 0.3em;box-sizing: border-box;text-align: center;}#sk-container-id-4 label.sk-toggleable__label-arrow:before {content: \"▸\";float: left;margin-right: 0.25em;color: #696969;}#sk-container-id-4 label.sk-toggleable__label-arrow:hover:before {color: black;}#sk-container-id-4 div.sk-estimator:hover label.sk-toggleable__label-arrow:before {color: black;}#sk-container-id-4 div.sk-toggleable__content {max-height: 0;max-width: 0;overflow: hidden;text-align: left;background-color: #f0f8ff;}#sk-container-id-4 div.sk-toggleable__content pre {margin: 0.2em;color: black;border-radius: 0.25em;background-color: #f0f8ff;}#sk-container-id-4 input.sk-toggleable__control:checked~div.sk-toggleable__content {max-height: 200px;max-width: 100%;overflow: auto;}#sk-container-id-4 input.sk-toggleable__control:checked~label.sk-toggleable__label-arrow:before {content: \"▾\";}#sk-container-id-4 div.sk-estimator input.sk-toggleable__control:checked~label.sk-toggleable__label {background-color: #d4ebff;}#sk-container-id-4 div.sk-label input.sk-toggleable__control:checked~label.sk-toggleable__label {background-color: #d4ebff;}#sk-container-id-4 input.sk-hidden--visually {border: 0;clip: rect(1px 1px 1px 1px);clip: rect(1px, 1px, 1px, 1px);height: 1px;margin: -1px;overflow: hidden;padding: 0;position: absolute;width: 1px;}#sk-container-id-4 div.sk-estimator {font-family: monospace;background-color: #f0f8ff;border: 1px dotted black;border-radius: 0.25em;box-sizing: border-box;margin-bottom: 0.5em;}#sk-container-id-4 div.sk-estimator:hover {background-color: #d4ebff;}#sk-container-id-4 div.sk-parallel-item::after {content: \"\";width: 100%;border-bottom: 1px solid gray;flex-grow: 1;}#sk-container-id-4 div.sk-label:hover label.sk-toggleable__label {background-color: #d4ebff;}#sk-container-id-4 div.sk-serial::before {content: \"\";position: absolute;border-left: 1px solid gray;box-sizing: border-box;top: 0;bottom: 0;left: 50%;z-index: 0;}#sk-container-id-4 div.sk-serial {display: flex;flex-direction: column;align-items: center;background-color: white;padding-right: 0.2em;padding-left: 0.2em;position: relative;}#sk-container-id-4 div.sk-item {position: relative;z-index: 1;}#sk-container-id-4 div.sk-parallel {display: flex;align-items: stretch;justify-content: center;background-color: white;position: relative;}#sk-container-id-4 div.sk-item::before, #sk-container-id-4 div.sk-parallel-item::before {content: \"\";position: absolute;border-left: 1px solid gray;box-sizing: border-box;top: 0;bottom: 0;left: 50%;z-index: -1;}#sk-container-id-4 div.sk-parallel-item {display: flex;flex-direction: column;z-index: 1;position: relative;background-color: white;}#sk-container-id-4 div.sk-parallel-item:first-child::after {align-self: flex-end;width: 50%;}#sk-container-id-4 div.sk-parallel-item:last-child::after {align-self: flex-start;width: 50%;}#sk-container-id-4 div.sk-parallel-item:only-child::after {width: 0;}#sk-container-id-4 div.sk-dashed-wrapped {border: 1px dashed gray;margin: 0 0.4em 0.5em 0.4em;box-sizing: border-box;padding-bottom: 0.4em;background-color: white;}#sk-container-id-4 div.sk-label label {font-family: monospace;font-weight: bold;display: inline-block;line-height: 1.2em;}#sk-container-id-4 div.sk-label-container {text-align: center;}#sk-container-id-4 div.sk-container {/* jupyter's `normalize.less` sets `[hidden] { display: none; }` but bootstrap.min.css set `[hidden] { display: none !important; }` so we also need the `!important` here to be able to override the default hidden behavior on the sphinx rendered scikit-learn.org. See: https://github.com/scikit-learn/scikit-learn/issues/21755 */display: inline-block !important;position: relative;}#sk-container-id-4 div.sk-text-repr-fallback {display: none;}</style><div id=\"sk-container-id-4\" class=\"sk-top-container\"><div class=\"sk-text-repr-fallback\"><pre>DecisionTreeRegressor(max_depth=10, min_samples_leaf=4, random_state=42)</pre><b>In a Jupyter environment, please rerun this cell to show the HTML representation or trust the notebook. <br />On GitHub, the HTML representation is unable to render, please try loading this page with nbviewer.org.</b></div><div class=\"sk-container\" hidden><div class=\"sk-item\"><div class=\"sk-estimator sk-toggleable\"><input class=\"sk-toggleable__control sk-hidden--visually\" id=\"sk-estimator-id-4\" type=\"checkbox\" checked><label for=\"sk-estimator-id-4\" class=\"sk-toggleable__label sk-toggleable__label-arrow\">DecisionTreeRegressor</label><div class=\"sk-toggleable__content\"><pre>DecisionTreeRegressor(max_depth=10, min_samples_leaf=4, random_state=42)</pre></div></div></div></div></div>"
      ],
      "text/plain": [
       "DecisionTreeRegressor(max_depth=10, min_samples_leaf=4, random_state=42)"
      ]
     },
     "execution_count": 36,
     "metadata": {},
     "output_type": "execute_result"
    }
   ],
   "source": [
    "# Best parameters and score from Grid Search\n",
    "best_params = grid_search.best_params_\n",
    "best_score = -grid_search.best_score_  # Negating the score\n",
    "\n",
    "# Train the model with the best parameters\n",
    "best_decision_tree = DecisionTreeRegressor(**best_params, random_state=42)\n",
    "best_decision_tree.fit(X_train_selected, y_train)\n",
    "\n"
   ]
  },
  {
   "cell_type": "code",
   "execution_count": 37,
   "id": "482cd3e3",
   "metadata": {},
   "outputs": [
    {
     "data": {
      "text/plain": [
       "((0.8214451833094076,\n",
       "  {'max_depth': 10, 'min_samples_leaf': 4, 'min_samples_split': 2},\n",
       "  0.46740071630296437),\n",
       " (0.027417893011034502, 0.9473767396686968))"
      ]
     },
     "execution_count": 37,
     "metadata": {},
     "output_type": "execute_result"
    }
   ],
   "source": [
    "# Predict and evaluate the tuned model\n",
    "y_tuned_pred = best_decision_tree.predict(X_test_selected)\n",
    "tuned_mse = mean_squared_error(y_test, y_tuned_pred)\n",
    "tuned_mae = mean_absolute_error(y_test, y_tuned_pred)\n",
    "tuned_r2 = r2_score(y_test, y_tuned_pred)\n",
    "\n",
    "(mean_cv_score, best_params, best_score), (tuned_mse, tuned_r2)"
   ]
  },
  {
   "cell_type": "code",
   "execution_count": 18,
   "id": "217fa537",
   "metadata": {},
   "outputs": [],
   "source": [
    "# Predict and evaluate the tuned model on the validation data\n",
    "y_validation_tuned_pred = best_decision_tree.predict(X_validation_selected)\n",
    "validation_tuned_mse = mean_squared_error(y_validation, y_validation_tuned_pred)\n",
    "validation_tuned_mae = mean_absolute_error(y_validation, y_validation_tuned_pred)\n",
    "validation_tuned_r2 = r2_score(y_validation, y_validation_tuned_pred)\n"
   ]
  },
  {
   "cell_type": "code",
   "execution_count": 68,
   "id": "f0533fff",
   "metadata": {},
   "outputs": [
    {
     "name": "stdout",
     "output_type": "stream",
     "text": [
      "Testing data\n",
      "MSE: 79695.75400181103\n",
      "MAE: 198.29891842763152\n",
      "R2: 0.9528744997997641\n",
      "\n",
      "Validation data\n",
      "MSE: 66850.84287926838\n",
      "MAE: 175.64782020560753\n",
      "R2: 0.956356329363249\n",
      "\n"
     ]
    }
   ],
   "source": [
    "print(\"Testing data\")\n",
    "print(\"MSE:\", tuned_mse)\n",
    "print(\"MAE:\", tuned_mae)\n",
    "print(\"R2:\", tuned_r2)\n",
    "print()\n",
    "\n",
    "print(\"Validation data\")\n",
    "print(\"MSE:\", validation_tuned_mse)\n",
    "print(\"MAE:\", validation_tuned_mae)\n",
    "print(\"R2:\", validation_tuned_r2)\n",
    "print()"
   ]
  },
  {
   "cell_type": "code",
   "execution_count": 19,
   "id": "5d50667f",
   "metadata": {},
   "outputs": [
    {
     "data": {
      "image/png": "[encoded data removed]",
      "text/plain": [
       "<Figure size 1000x600 with 1 Axes>"
      ]
     },
     "metadata": {},
     "output_type": "display_data"
    }
   ],
   "source": [
    "# Plot for Test Data\n",
    "plt.figure(figsize=(10, 6))\n",
    "plt.scatter(y_test, y_tuned_pred, alpha=0.5)\n",
    "plt.plot([y_test.min(), y_test.max()], [y_test.min(), y_test.max()], 'k--', lw=2)  # Diagonal line\n",
    "plt.xlabel('Actual')\n",
    "plt.ylabel('Predicted')\n",
    "plt.title('Actual vs Predicted Values (Test Data)')\n",
    "plt.show()"
   ]
  },
  {
   "cell_type": "code",
   "execution_count": 20,
   "id": "4a177123",
   "metadata": {},
   "outputs": [
    {
     "data": {
      "image/png": "[encoded data removed]",
      "text/plain": [
       "<Figure size 1000x600 with 1 Axes>"
      ]
     },
     "metadata": {},
     "output_type": "display_data"
    }
   ],
   "source": [
    "# Plot for Validation Data\n",
    "plt.figure(figsize=(10, 6))\n",
    "plt.scatter(y_validation, y_validation_tuned_pred, alpha=0.5, color='r')\n",
    "plt.plot([y_validation.min(), y_validation.max()], [y_validation.min(), y_validation.max()], 'k--', lw=2)  # Diagonal line\n",
    "plt.xlabel('Actual')\n",
    "plt.ylabel('Predicted')\n",
    "plt.title('Actual vs Predicted Values (Validation Data)')\n",
    "plt.show()"
   ]
  },
  {
   "cell_type": "code",
   "execution_count": 21,
   "id": "ddd47c4d",
   "metadata": {},
   "outputs": [
    {
     "name": "stdout",
     "output_type": "stream",
     "text": [
      "Test Data - Actual vs Predicted:\n",
      "              Actual  Predicted\n",
      "Date                           \n",
      "2020-01-01  1.043489   1.322068\n",
      "2020-01-02 -0.974149  -0.658445\n",
      "2020-01-03 -0.639558  -0.658445\n",
      "2020-01-04 -0.637950  -0.658445\n",
      "2020-01-05 -0.648225  -0.658445\n",
      "\n",
      "Validation Data - Actual vs Predicted:\n",
      "              Actual  Predicted\n",
      "Date                           \n",
      "2020-06-01 -0.924157  -0.911810\n",
      "2020-06-02 -0.081959  -0.081400\n",
      "2020-06-03  0.405970   0.351318\n",
      "2020-06-04 -0.212747  -0.207936\n",
      "2020-06-05 -0.282109  -0.258472\n"
     ]
    }
   ],
   "source": [
    "# Create a DataFrame for Test Data\n",
    "test_comparison = pd.DataFrame({'Actual': y_test, 'Predicted': y_tuned_pred})\n",
    "# Display first few rows\n",
    "print(\"Test Data - Actual vs Predicted:\")\n",
    "print(test_comparison.head())\n",
    "\n",
    "# Create a DataFrame for Validation Data\n",
    "validation_comparison = pd.DataFrame({'Actual': y_validation, 'Predicted': y_validation_tuned_pred})\n",
    "# Display first few rows\n",
    "print(\"\\nValidation Data - Actual vs Predicted:\")\n",
    "print(validation_comparison.head())\n"
   ]
  },
  {
   "cell_type": "code",
   "execution_count": 22,
   "id": "f5fce6b6",
   "metadata": {},
   "outputs": [
    {
     "data": {
      "text/plain": [
       "['../Data/models_output/decision_tree_logreturn.joblib']"
      ]
     },
     "execution_count": 22,
     "metadata": {},
     "output_type": "execute_result"
    }
   ],
   "source": [
    "#Saving the model\n",
    "\n",
    "\n",
    "dump(best_decision_tree, '../Data/models_output/decision_tree_logreturn.joblib')\n"
   ]
  },
  {
   "cell_type": "markdown",
   "id": "2947d137",
   "metadata": {},
   "source": [
    "###  Decision Tree\n",
    "\n",
    "The initial model results states that the model achieved perfect scores on the **training dataset** with MSE, MAE, and R^2 being 0, 0, and 1 respectively. Which indicates that the model has perfectly fit the data, however there is also possibility of overfitting. \n",
    "On the **testing dataset**, the model exhibited high MSE and MAE values (approximately 79695.75 and 198.29 respectively) but a relatively high R^2 value of 0.9529, suggesting that while the model captures the variance in the data well, it also makes large errors in some predictions.\n",
    "The **validation dataset** showed similar results to the testing dataset with an MSE of approximately 66850.84, MAE of 175.65, and R^2 of 0.9564.\n",
    "The model used a variety of features including various moving averages, volatility measures, Bollinger Bands, MACD, ATR, Stochastic Oscillator values, and lag features among others. \n",
    "\n",
    "#### Cross-validation Scores: \n",
    "\n",
    "Cross-validation was performed with negative MSE scores ranging from approximately -1.30 to -0.06, and the mean CV score for MSE was approximately 0.82. This indicates that the model's performance varied significantly across different folds, suggesting variability in the model's predictive performance.\n",
    "\n",
    "#### Hyperparameter Tuning\n",
    "\n",
    "The model was tuned with a maximum depth of 10 and a minimum sample leaf of 4, which likely aimed to prevent overfitting. The resultant model's performance on the validation dataset had an R^2 of approximately 0.9474, showing a good fit.\n",
    "\n",
    "\n",
    "The **Decision Tree** model seems to overfit the training data but still performs reasonably well on unseen data, capturing a significant proportion of the variance. The high MSE and MAE values on the testing and validation datasets suggest that while the model's general direction of predictions is correct, there are instances where it makes large errors. This may indicate that the model's complexity needs further tuning."
   ]
  },
  {
   "cell_type": "code",
   "execution_count": null,
   "id": "7a8207ab",
   "metadata": {},
   "outputs": [],
   "source": []
  }
 ],
 "metadata": {
  "kernelspec": {
   "display_name": "Python 3 (ipykernel)",
   "language": "python",
   "name": "python3"
  },
  "language_info": {
   "codemirror_mode": {
    "name": "ipython",
    "version": 3
   },
   "file_extension": ".py",
   "mimetype": "text/x-python",
   "name": "python",
   "nbconvert_exporter": "python",
   "pygments_lexer": "ipython3",
   "version": "3.10.9"
  }
 },
 "nbformat": 4,
 "nbformat_minor": 5
}
